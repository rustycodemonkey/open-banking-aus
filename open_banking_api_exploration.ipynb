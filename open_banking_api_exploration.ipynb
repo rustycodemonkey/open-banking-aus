{
 "cells": [
  {
   "cell_type": "code",
   "execution_count": 1,
   "metadata": {},
   "outputs": [],
   "source": [
    "import requests\n",
    "import json\n",
    "import pandas"
   ]
  },
  {
   "cell_type": "code",
   "execution_count": 2,
   "metadata": {},
   "outputs": [],
   "source": [
    "hosts = {\"westpac\": \"https://digital-api.westpac.com.au\",\n",
    "         \"cba\": \"https://api.commbank.com.au\",\n",
    "         \"nab\": \"https://openbank.api.nab.com.au\",\n",
    "         \"anz\": \"https://api.anz\"}\n",
    "endpoint = '/cds-au/v1/banking/products'\n",
    "headers = {'x-v':'2', 'Accept': 'application/json'}\n",
    "params_dict = {'page-size': '100',\n",
    "               'effective': 'ALL',\n",
    "              'product-category': 'RESIDENTIAL_MORTGAGES'}"
   ]
  },
  {
   "cell_type": "code",
   "execution_count": 3,
   "metadata": {},
   "outputs": [
    {
     "name": "stdout",
     "output_type": "stream",
     "text": [
      "Help on function get in module requests.api:\n",
      "\n",
      "get(url, params=None, **kwargs)\n",
      "    Sends a GET request.\n",
      "    \n",
      "    :param url: URL for the new :class:`Request` object.\n",
      "    :param params: (optional) Dictionary, list of tuples or bytes to send\n",
      "        in the query string for the :class:`Request`.\n",
      "    :param \\*\\*kwargs: Optional arguments that ``request`` takes.\n",
      "    :return: :class:`Response <Response>` object\n",
      "    :rtype: requests.Response\n",
      "\n"
     ]
    }
   ],
   "source": [
    "help(requests.get)"
   ]
  },
  {
   "cell_type": "code",
   "execution_count": 4,
   "metadata": {},
   "outputs": [],
   "source": [
    "westpac_response = requests.get(url = hosts['westpac'] + endpoint, params=params_dict, headers=headers)"
   ]
  },
  {
   "cell_type": "code",
   "execution_count": 5,
   "metadata": {
    "scrolled": true
   },
   "outputs": [
    {
     "data": {
      "text/plain": [
       "200"
      ]
     },
     "execution_count": 5,
     "metadata": {},
     "output_type": "execute_result"
    }
   ],
   "source": [
    "# https://consumerdatastandardsaustralia.github.io/standards/#http-response-codes\n",
    "westpac_response.status_code"
   ]
  },
  {
   "cell_type": "code",
   "execution_count": 6,
   "metadata": {},
   "outputs": [],
   "source": [
    "westpac_json = westpac_response.json()"
   ]
  },
  {
   "cell_type": "code",
   "execution_count": 7,
   "metadata": {},
   "outputs": [
    {
     "data": {
      "text/plain": [
       "['data', 'meta', 'links']"
      ]
     },
     "execution_count": 7,
     "metadata": {},
     "output_type": "execute_result"
    }
   ],
   "source": [
    "list(westpac_json.keys())"
   ]
  },
  {
   "cell_type": "code",
   "execution_count": 8,
   "metadata": {},
   "outputs": [],
   "source": [
    "westpac_products = westpac_json['data']['products']\n",
    "westpac_meta = westpac_json['meta']\n",
    "westpac_links = westpac_json['links']"
   ]
  },
  {
   "cell_type": "code",
   "execution_count": 9,
   "metadata": {},
   "outputs": [
    {
     "name": "stdout",
     "output_type": "stream",
     "text": [
      "[\n",
      "  {\n",
      "    \"productId\": \"HLFixedInvestmentIO\",\n",
      "    \"lastUpdated\": \"2020-06-15T00:15:54Z\",\n",
      "    \"productCategory\": \"RESIDENTIAL_MORTGAGES\",\n",
      "    \"name\": \"Fixed Rate Investment Property Loan Interest Only\",\n",
      "    \"description\": \"\",\n",
      "    \"brand\": \"Westpac\",\n",
      "    \"brandName\": \"Westpac\",\n",
      "    \"applicationUri\": \"https://www.westpac.com.au/personal-banking/home-loans/fixed/fixed-rate-home-loan/\",\n",
      "    \"isTailored\": \"false\",\n",
      "    \"additionalInformation\": {\n",
      "      \"overviewUri\": \"https://www.westpac.com.au/personal-banking/home-loans/fixed/fixed-rate-home-loan/\",\n",
      "      \"termsUri\": \"https://www.westpac.com.au/personal-banking/home-loans/fixed/fixed-rate-home-loan/\",\n",
      "      \"eligibilityUri\": \"https://www.westpac.com.au/personal-banking/home-loans/fixed/fixed-rate-home-loan/\",\n",
      "      \"feesAndPricingUri\": \"https://www.westpac.com.au/personal-banking/home-loans/fixed/fixed-rate-home-loan/\"\n",
      "    }\n",
      "  },\n",
      "  {\n",
      "    \"productId\": \"HLVariableOffsetInvestmentIO\",\n",
      "    \"lastUpdated\": \"2020-04-28T04:52:47Z\",\n",
      "    \"productCategory\": \"RESIDENTIAL_MORTGAGES\",\n",
      "    \"name\": \"Variable Investor Home Loan with Offset Interest Only\",\n",
      "    \"description\": \"Own your property sooner with our Rocket Investment Loan and optional linked offset account.\",\n",
      "    \"brand\": \"Westpac\",\n",
      "    \"brandName\": \"Westpac\",\n",
      "    \"applicationUri\": \"https://www.westpac.com.au/personal-banking/home-loans/variable/investment-home-loan/\",\n",
      "    \"isTailored\": \"false\",\n",
      "    \"additionalInformation\": {\n",
      "      \"overviewUri\": \"https://www.westpac.com.au/personal-banking/home-loans/variable/investment-home-loan/\",\n",
      "      \"termsUri\": \"https://www.westpac.com.au/personal-banking/home-loans/variable/investment-home-loan/\",\n",
      "      \"eligibilityUri\": \"https://www.westpac.com.au/personal-banking/home-loans/variable/investment-home-loan/\",\n",
      "      \"feesAndPricingUri\": \"https://www.westpac.com.au/personal-banking/home-loans/variable/investment-home-loan/\"\n",
      "    }\n",
      "  },\n",
      "  {\n",
      "    \"productId\": \"HLBridgingOption\",\n",
      "    \"lastUpdated\": \"2020-04-28T04:52:47Z\",\n",
      "    \"productCategory\": \"RESIDENTIAL_MORTGAGES\",\n",
      "    \"name\": \"Bridging Home Loan\",\n",
      "    \"description\": \"Apart from buying an existing property, bridging loans are also an option if you want to stay in your current property while you build a new property. It saves you the hassle of selling your property and renting somewhere short-term, not to mention having to pay for the costs of moving twice.\",\n",
      "    \"brand\": \"Westpac\",\n",
      "    \"brandName\": \"Westpac\",\n",
      "    \"applicationUri\": \"https://www.westpac.com.au/personal-banking/home-loans/next-home/bridging-loan/?searchsource=search-results&kw=bridging%20home%20loan&cat=other&rank=3&result-type=natural\",\n",
      "    \"isTailored\": \"true\",\n",
      "    \"additionalInformation\": {\n",
      "      \"overviewUri\": \"https://www.westpac.com.au/personal-banking/home-loans/next-home/bridging-loan/?searchsource=search-results&kw=bridging%20home%20loan&cat=other&rank=3&result-type=natural\",\n",
      "      \"termsUri\": \"https://www.westpac.com.au/personal-banking/home-loans/next-home/bridging-loan/?searchsource=search-results&kw=bridging%20home%20loan&cat=other&rank=3&result-type=natural\",\n",
      "      \"eligibilityUri\": \"https://www.westpac.com.au/personal-banking/home-loans/next-home/bridging-loan/?searchsource=search-results&kw=bridging%20home%20loan&cat=other&rank=3&result-type=natural\",\n",
      "      \"feesAndPricingUri\": \"https://www.westpac.com.au/personal-banking/home-loans/next-home/bridging-loan/?searchsource=search-results&kw=bridging%20home%20loan&cat=other&rank=3&result-type=natural\"\n",
      "    }\n",
      "  },\n",
      "  {\n",
      "    \"productId\": \"HLVariableOffsetOwnerOccupiedIO\",\n",
      "    \"lastUpdated\": \"2020-04-28T04:52:46Z\",\n",
      "    \"productCategory\": \"RESIDENTIAL_MORTGAGES\",\n",
      "    \"name\": \"Variable Home Loan with Offset Interest Only\",\n",
      "    \"description\": \"Own your home sooner with our Rocket Repay Home Loan and optional linked offset account.\",\n",
      "    \"brand\": \"Westpac\",\n",
      "    \"brandName\": \"Westpac\",\n",
      "    \"applicationUri\": \"https://www.westpac.com.au/personal-banking/home-loans/variable/mortgage-offset-accounts/\",\n",
      "    \"isTailored\": \"false\",\n",
      "    \"additionalInformation\": {\n",
      "      \"overviewUri\": \"https://www.westpac.com.au/personal-banking/home-loans/variable/mortgage-offset-accounts/\",\n",
      "      \"termsUri\": \"https://www.westpac.com.au/personal-banking/home-loans/variable/mortgage-offset-accounts/\",\n",
      "      \"eligibilityUri\": \"https://www.westpac.com.au/personal-banking/home-loans/variable/mortgage-offset-accounts/\",\n",
      "      \"feesAndPricingUri\": \"https://www.westpac.com.au/personal-banking/home-loans/variable/mortgage-offset-accounts/\"\n",
      "    }\n",
      "  },\n",
      "  {\n",
      "    \"productId\": \"HLVariableOffsetOwnerOccupiedPI\",\n",
      "    \"lastUpdated\": \"2020-04-28T04:52:46Z\",\n",
      "    \"productCategory\": \"RESIDENTIAL_MORTGAGES\",\n",
      "    \"name\": \"Variable Home Loan with Offset Principal & Interest\",\n",
      "    \"description\": \"Own your home sooner with our Rocket Repay Home Loan and optional linked offset account.\",\n",
      "    \"brand\": \"Westpac\",\n",
      "    \"brandName\": \"Westpac\",\n",
      "    \"applicationUri\": \"https://www.westpac.com.au/personal-banking/home-loans/variable/mortgage-offset-accounts/\",\n",
      "    \"isTailored\": \"false\",\n",
      "    \"additionalInformation\": {\n",
      "      \"overviewUri\": \"https://www.westpac.com.au/personal-banking/home-loans/variable/mortgage-offset-accounts/\",\n",
      "      \"termsUri\": \"https://www.westpac.com.au/personal-banking/home-loans/variable/mortgage-offset-accounts/\",\n",
      "      \"eligibilityUri\": \"https://www.westpac.com.au/personal-banking/home-loans/variable/mortgage-offset-accounts/\",\n",
      "      \"feesAndPricingUri\": \"https://www.westpac.com.au/personal-banking/home-loans/variable/mortgage-offset-accounts/\"\n",
      "    }\n",
      "  },\n",
      "  {\n",
      "    \"productId\": \"HLVariableFlexiInvestmentPI\",\n",
      "    \"lastUpdated\": \"2020-04-28T04:52:46Z\",\n",
      "    \"productCategory\": \"RESIDENTIAL_MORTGAGES\",\n",
      "    \"name\": \"Flexi First Option Investment Loan Principal & Interest\",\n",
      "    \"description\": \"\",\n",
      "    \"brand\": \"Westpac\",\n",
      "    \"brandName\": \"Westpac\",\n",
      "    \"applicationUri\": \"https://www.westpac.com.au/personal-banking/home-loans/variable/first-option-investment-homeloan\",\n",
      "    \"isTailored\": \"false\",\n",
      "    \"additionalInformation\": {\n",
      "      \"overviewUri\": \"https://www.westpac.com.au/personal-banking/home-loans/variable/first-option-investment-homeloan\",\n",
      "      \"termsUri\": \"https://www.westpac.com.au/personal-banking/home-loans/variable/first-option-investment-homeloan\",\n",
      "      \"eligibilityUri\": \"https://www.westpac.com.au/personal-banking/home-loans/variable/first-option-investment-homeloan\",\n",
      "      \"feesAndPricingUri\": \"https://www.westpac.com.au/personal-banking/home-loans/variable/first-option-investment-homeloan\"\n",
      "    }\n",
      "  },\n",
      "  {\n",
      "    \"productId\": \"HLVariableOffsetInvestmentPI\",\n",
      "    \"lastUpdated\": \"2020-04-28T04:52:46Z\",\n",
      "    \"productCategory\": \"RESIDENTIAL_MORTGAGES\",\n",
      "    \"name\": \"Variable Investor Home Loan with Offset Principal & Interest\",\n",
      "    \"description\": \"Own your property sooner with our Rocket Investment Loan and optional linked offset account.\",\n",
      "    \"brand\": \"Westpac\",\n",
      "    \"brandName\": \"Westpac\",\n",
      "    \"applicationUri\": \"https://www.westpac.com.au/personal-banking/home-loans/variable/investment-home-loan/\",\n",
      "    \"isTailored\": \"false\",\n",
      "    \"additionalInformation\": {\n",
      "      \"overviewUri\": \"https://www.westpac.com.au/personal-banking/home-loans/variable/investment-home-loan/\",\n",
      "      \"termsUri\": \"https://www.westpac.com.au/personal-banking/home-loans/variable/investment-home-loan/\",\n",
      "      \"eligibilityUri\": \"https://www.westpac.com.au/personal-banking/home-loans/variable/investment-home-loan/\",\n",
      "      \"feesAndPricingUri\": \"https://www.westpac.com.au/personal-banking/home-loans/variable/investment-home-loan/\"\n",
      "    }\n",
      "  },\n",
      "  {\n",
      "    \"productId\": \"HLVariableFlexiInvestmentIO\",\n",
      "    \"lastUpdated\": \"2020-04-28T04:52:46Z\",\n",
      "    \"productCategory\": \"RESIDENTIAL_MORTGAGES\",\n",
      "    \"name\": \"Flexi First Option Investment Loan Interest Only\",\n",
      "    \"description\": \"\",\n",
      "    \"brand\": \"Westpac\",\n",
      "    \"brandName\": \"Westpac\",\n",
      "    \"applicationUri\": \"https://www.westpac.com.au/personal-banking/home-loans/variable/first-option-investment-homeloan\",\n",
      "    \"isTailored\": \"false\",\n",
      "    \"additionalInformation\": {\n",
      "      \"overviewUri\": \"https://www.westpac.com.au/personal-banking/home-loans/variable/first-option-investment-homeloan\",\n",
      "      \"termsUri\": \"https://www.westpac.com.au/personal-banking/home-loans/variable/first-option-investment-homeloan\",\n",
      "      \"eligibilityUri\": \"https://www.westpac.com.au/personal-banking/home-loans/variable/first-option-investment-homeloan\",\n",
      "      \"feesAndPricingUri\": \"https://www.westpac.com.au/personal-banking/home-loans/variable/first-option-investment-homeloan\"\n",
      "    }\n",
      "  },\n",
      "  {\n",
      "    \"productId\": \"HLVariableFlexiOwnerOccupiedIO\",\n",
      "    \"lastUpdated\": \"2020-04-28T04:52:46Z\",\n",
      "    \"productCategory\": \"RESIDENTIAL_MORTGAGES\",\n",
      "    \"name\": \"Flexi First Option Home Loan Interest Only\",\n",
      "    \"description\": \"\",\n",
      "    \"brand\": \"Westpac\",\n",
      "    \"brandName\": \"Westpac\",\n",
      "    \"applicationUri\": \"https://www.westpac.com.au/personal-banking/home-loans/variable/first-home-loan\",\n",
      "    \"isTailored\": \"false\",\n",
      "    \"additionalInformation\": {\n",
      "      \"overviewUri\": \"https://www.westpac.com.au/personal-banking/home-loans/variable/first-home-loan\",\n",
      "      \"termsUri\": \"https://www.westpac.com.au/personal-banking/home-loans/variable/first-home-loan\",\n",
      "      \"eligibilityUri\": \"https://www.westpac.com.au/personal-banking/home-loans/variable/first-home-loan\",\n",
      "      \"feesAndPricingUri\": \"https://www.westpac.com.au/personal-banking/home-loans/variable/first-home-loan\"\n",
      "    }\n",
      "  },\n",
      "  {\n",
      "    \"productId\": \"HLVariableFlexiOwnerOccupiedPI\",\n",
      "    \"lastUpdated\": \"2020-04-28T04:52:45Z\",\n",
      "    \"productCategory\": \"RESIDENTIAL_MORTGAGES\",\n",
      "    \"name\": \"Flexi First Option Home Loan Principal & Interest\",\n",
      "    \"description\": \"\",\n",
      "    \"brand\": \"Westpac\",\n",
      "    \"brandName\": \"Westpac\",\n",
      "    \"applicationUri\": \"https://www.westpac.com.au/personal-banking/home-loans/variable/first-home-loan\",\n",
      "    \"isTailored\": \"false\",\n",
      "    \"additionalInformation\": {\n",
      "      \"overviewUri\": \"https://www.westpac.com.au/personal-banking/home-loans/variable/first-home-loan\",\n",
      "      \"termsUri\": \"https://www.westpac.com.au/personal-banking/home-loans/variable/first-home-loan\",\n",
      "      \"eligibilityUri\": \"https://www.westpac.com.au/personal-banking/home-loans/variable/first-home-loan\",\n",
      "      \"feesAndPricingUri\": \"https://www.westpac.com.au/personal-banking/home-loans/variable/first-home-loan\"\n",
      "    }\n",
      "  },\n",
      "  {\n",
      "    \"productId\": \"HLFixedOwnerOccupiedIO\",\n",
      "    \"lastUpdated\": \"2020-04-28T04:52:44Z\",\n",
      "    \"productCategory\": \"RESIDENTIAL_MORTGAGES\",\n",
      "    \"name\": \"Fixed Options Home Loan Interest Only\",\n",
      "    \"description\": \"Enjoy the certainty of knowing what your repayments will be.\",\n",
      "    \"brand\": \"Westpac\",\n",
      "    \"brandName\": \"Westpac\",\n",
      "    \"applicationUri\": \"https://www.westpac.com.au/personal-banking/home-loans/fixed/fixed-home-loan\",\n",
      "    \"isTailored\": \"false\",\n",
      "    \"additionalInformation\": {\n",
      "      \"overviewUri\": \"https://www.westpac.com.au/personal-banking/home-loans/fixed/fixed-home-loan\",\n",
      "      \"termsUri\": \"https://www.westpac.com.au/personal-banking/home-loans/fixed/fixed-home-loan\",\n",
      "      \"eligibilityUri\": \"https://www.westpac.com.au/personal-banking/home-loans/fixed/fixed-home-loan\",\n",
      "      \"feesAndPricingUri\": \"https://www.westpac.com.au/personal-banking/home-loans/fixed/fixed-home-loan\"\n",
      "    }\n",
      "  },\n",
      "  {\n",
      "    \"productId\": \"HLFixedInvestmentPI\",\n",
      "    \"lastUpdated\": \"2020-04-28T04:52:44Z\",\n",
      "    \"productCategory\": \"RESIDENTIAL_MORTGAGES\",\n",
      "    \"name\": \"Fixed Rate Investment Property Loan Principal & Interest\",\n",
      "    \"description\": \"\",\n",
      "    \"brand\": \"Westpac\",\n",
      "    \"brandName\": \"Westpac\",\n",
      "    \"applicationUri\": \"https://www.westpac.com.au/personal-banking/home-loans/fixed/fixed-rate-home-loan/\",\n",
      "    \"isTailored\": \"false\",\n",
      "    \"additionalInformation\": {\n",
      "      \"overviewUri\": \"https://www.westpac.com.au/personal-banking/home-loans/fixed/fixed-rate-home-loan/\",\n",
      "      \"termsUri\": \"https://www.westpac.com.au/personal-banking/home-loans/fixed/fixed-rate-home-loan/\",\n",
      "      \"eligibilityUri\": \"https://www.westpac.com.au/personal-banking/home-loans/fixed/fixed-rate-home-loan/\",\n",
      "      \"feesAndPricingUri\": \"https://www.westpac.com.au/personal-banking/home-loans/fixed/fixed-rate-home-loan/\"\n",
      "    }\n",
      "  },\n",
      "  {\n",
      "    \"productId\": \"HLFixedOwnerOccupiedPI\",\n",
      "    \"lastUpdated\": \"2020-04-28T04:52:44Z\",\n",
      "    \"productCategory\": \"RESIDENTIAL_MORTGAGES\",\n",
      "    \"name\": \"Fixed Options Home Loan Principal & Interest\",\n",
      "    \"description\": \"Enjoy the certainty of knowing what your repayments will be.\",\n",
      "    \"brand\": \"Westpac\",\n",
      "    \"brandName\": \"Westpac\",\n",
      "    \"applicationUri\": \"https://www.westpac.com.au/personal-banking/home-loans/fixed/fixed-home-loan\",\n",
      "    \"isTailored\": \"false\",\n",
      "    \"additionalInformation\": {\n",
      "      \"overviewUri\": \"https://www.westpac.com.au/personal-banking/home-loans/fixed/fixed-home-loan\",\n",
      "      \"termsUri\": \"https://www.westpac.com.au/personal-banking/home-loans/fixed/fixed-home-loan\",\n",
      "      \"eligibilityUri\": \"https://www.westpac.com.au/personal-banking/home-loans/fixed/fixed-home-loan\",\n",
      "      \"feesAndPricingUri\": \"https://www.westpac.com.au/personal-banking/home-loans/fixed/fixed-home-loan\"\n",
      "    }\n",
      "  }\n",
      "]\n"
     ]
    }
   ],
   "source": [
    "print(json.dumps(westpac_products, indent=2))"
   ]
  },
  {
   "cell_type": "code",
   "execution_count": 10,
   "metadata": {},
   "outputs": [
    {
     "name": "stdout",
     "output_type": "stream",
     "text": [
      "{\n",
      "  \"totalRecords\": 13,\n",
      "  \"totalPages\": 1\n",
      "}\n"
     ]
    }
   ],
   "source": [
    "print(json.dumps(westpac_meta, indent=2))"
   ]
  },
  {
   "cell_type": "code",
   "execution_count": 11,
   "metadata": {},
   "outputs": [
    {
     "name": "stdout",
     "output_type": "stream",
     "text": [
      "{\n",
      "  \"self\": \"https://digital-api.westpac.com.au/cds-au/v1/banking/products?effective=ALL&page-size=100&product-category=RESIDENTIAL_MORTGAGES\",\n",
      "  \"first\": \"https://digital-api.westpac.com.au/cds-au/v1/banking/products?page=1&page-size=100\",\n",
      "  \"last\": \"https://digital-api.westpac.com.au/cds-au/v1/banking/products?page=1&page-size=100\"\n",
      "}\n"
     ]
    }
   ],
   "source": [
    "print(json.dumps(westpac_links, indent=2))"
   ]
  },
  {
   "cell_type": "code",
   "execution_count": null,
   "metadata": {},
   "outputs": [],
   "source": []
  }
 ],
 "metadata": {
  "kernelspec": {
   "display_name": "Python 3",
   "language": "python",
   "name": "python3"
  },
  "language_info": {
   "codemirror_mode": {
    "name": "ipython",
    "version": 3
   },
   "file_extension": ".py",
   "mimetype": "text/x-python",
   "name": "python",
   "nbconvert_exporter": "python",
   "pygments_lexer": "ipython3",
   "version": "3.8.3"
  }
 },
 "nbformat": 4,
 "nbformat_minor": 4
}
